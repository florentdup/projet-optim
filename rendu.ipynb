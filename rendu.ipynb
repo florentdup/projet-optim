{
 "cells": [
  {
   "cell_type": "markdown",
   "metadata": {},
   "source": [
    "# Projet d'optimisation"
   ]
  },
  {
   "cell_type": "markdown",
   "metadata": {},
   "source": [
    "#### Question 1"
   ]
  },
  {
   "cell_type": "markdown",
   "metadata": {},
   "source": [
    "Comme le coût de renforcement d’une station de compression est proportionnel à la puissance\n",
    "supplémentaire installée et que celui de doublement d’une canalisation est proportionnel au diamètre\n",
    "choisi pour la canalisation de doublement, on peut écrire la fonction coût f comme:\n",
    "$f(D'_1,\\dots,D'_N,P_1,\\dots,P_W)=C_t \\sum \\limits_{i=0}^N D_i L_i + C_s \\sum \\limits_{i=0}^W P_i$ <br>\n",
    "Avec $N$ et $W$ respectivement le nombre de canlisation et le nombre de station de pompage, et : <br>\n",
    "-$L_i$ la longueur de la i-ème canalisation<br>\n",
    "-$D'_i$ son diamètre<br>\n",
    "-$P_i$ la puissance ajoutée à la station $i$<br>\n",
    "-$C_t$ le cout par unité de longueur et par unité de diamètre ajouté<br>\n",
    "-$C_s$ le cout par unité de puissance ajoutée<br>\n"
   ]
  },
  {
   "cell_type": "markdown",
   "metadata": {},
   "source": [
    "#### Question 2"
   ]
  },
  {
   "cell_type": "markdown",
   "metadata": {},
   "source": [
    "On peut prendre comme équation:  $\\Delta (p^2)=C \\frac{Q^2 L}{D^5}$ avec $C$ une fonction de la température et de d'autres caractéristiqued de l'écoulement, avec: <br>\n",
    "-$Q$ le débit <br>\n",
    "-$L$ la longueur de la canalisation<br>\n",
    "-$D$ son diamètre<br>\n",
    "-$\\Delta (p^2)$ la variation du carré de la pression<br>\n",
    "\n",
    "On suppose $C$ constant.\n",
    "\n",
    "L'énnoncé donne C=4000USI si on exprime la longueur des canalisations en $10^3 km$, un diamètre en $m$, la charge en $bar$ et le débit en $Mm^3/h$."
   ]
  },
  {
   "cell_type": "markdown",
   "metadata": {},
   "source": [
    "#### Question 3"
   ]
  },
  {
   "cell_type": "markdown",
   "metadata": {},
   "source": [
    "Si toute l'energie apportée par la pompe sert à augmenter la pression, on a alors la relation: $ Q \\Delta p=P$, avec:<br>\n",
    "-$Q$ le débit <br>\n",
    "-$\\Delta p$ la variation de pression<br>"
   ]
  },
  {
   "cell_type": "markdown",
   "metadata": {},
   "source": [
    "#### Question 4"
   ]
  },
  {
   "cell_type": "markdown",
   "metadata": {},
   "source": [
    "On connait la répartition de débit et la position des stations de pompage.\n",
    "Le problème peut d'écrire: $\\min \\limits_{c(D'_1,\\dots,D'_N,P_1,\\dots,P_W,p_1,\\dots p_n)\\leq 0}{f(D'_1,\\dots,D'_N,P_1,\\dots,P_W,p_1,\\dots p_n)}$ avec:<br>\n",
    "\n",
    "$f(D'_1,\\dots,D'_N,P_1,\\dots,P_W,p_1,\\dots p_n)=C_t \\sum \\limits_{i=0}^N D_i L_i + C_s \\sum \\limits_{i=0}^W P_i$ <br>\n",
    "\n",
    "\n",
    "$\\forall 0 \\leq i \\leq W,$\n",
    "$$\n",
    " \\\\(c(D'_1,\\dots,D'_N,P_1,\\dots,P_W,p_1,\\dots p_n))_i=\n",
    "\\begin{cases}\n",
    "-P_i \\text{ si } 0\\leq i < W\\\\\n",
    "p_i-p_{max} \\text{ si } W\\leq i < W+n\\\\\n",
    "-(p_i-p_{min}) \\text{ si } W+n \\leq i < W+2n\\\\\n",
    "D_i-D_{max} \\text{ si } W+2n \\leq i < W+2n+N\\\\\n",
    "-(D_i-D_{min}) \\text{ si } W+2n+N \\leq i < W+2n+2N\\\\\n",
    "|Q_k \\Delta p - P_W| \\text{ si } W+2n+N < i < 2W+2n+2N\n",
    "\\end{cases}\n",
    "$$\n",
    "\n",
    "La dernière condition est calculée pour $k$ la canalisation où la station $W$ est présente et $\\Delta p$ est l'écart de pression dans la canalisation $k$<br>\n",
    "<br> \n",
    "Il y a bien 9 contraintes et variables: 3 variables de décision ($D'$, $p$ et $P$) et 6 contraintes:<br>\n",
    "-les puissances ajoutée doivent être positives<br>\n",
    "-les pressions sont comprises entre deux bornes (2 contraintes)<br>\n",
    "-de même pour les diametres ajoutés<br>\n",
    "-la puissance d'une station est reliée à la chute de pression dans la canalisaiton concernée<br>\n",
    "\n",
    "\n",
    "\n",
    "\n",
    "\n",
    "\n",
    "\n"
   ]
  },
  {
   "cell_type": "code",
   "execution_count": null,
   "metadata": {},
   "outputs": [],
   "source": []
  }
 ],
 "metadata": {
  "kernelspec": {
   "display_name": "Python 3",
   "language": "python",
   "name": "python3"
  },
  "language_info": {
   "codemirror_mode": {
    "name": "ipython",
    "version": 3
   },
   "file_extension": ".py",
   "mimetype": "text/x-python",
   "name": "python",
   "nbconvert_exporter": "python",
   "pygments_lexer": "ipython3",
   "version": "3.7.3"
  }
 },
 "nbformat": 4,
 "nbformat_minor": 2
}
